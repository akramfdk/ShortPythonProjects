{
 "cells": [
  {
   "cell_type": "markdown",
   "id": "879b1011",
   "metadata": {},
   "source": [
    "# Hangman Game !!!"
   ]
  },
  {
   "cell_type": "markdown",
   "id": "b67016cc",
   "metadata": {},
   "source": [
    "### Play and enjoy the game"
   ]
  },
  {
   "cell_type": "code",
   "execution_count": 4,
   "id": "08c10ae7",
   "metadata": {},
   "outputs": [
    {
     "name": "stdout",
     "output_type": "stream",
     "text": [
      "charming\n",
      "['_', '_', '_', '_', '_', '_', '_', '_']\n"
     ]
    }
   ],
   "source": [
    "import random\n",
    "\n",
    "# hangman ascii art\n",
    "hangman_ascii_art = ['''\n",
    "  +---+\n",
    "  |   |\n",
    "      |\n",
    "      |\n",
    "      |\n",
    "      |\n",
    "=========''', '''\n",
    "  +---+\n",
    "  |   |\n",
    "  O   |\n",
    "      |\n",
    "      |\n",
    "      |\n",
    "=========''', '''\n",
    "  +---+\n",
    "  |   |\n",
    "  O   |\n",
    "  |   |\n",
    "      |\n",
    "      |\n",
    "=========''', '''\n",
    "  +---+\n",
    "  |   |\n",
    "  O   |\n",
    " /|   |\n",
    "      |\n",
    "      |\n",
    "=========''', '''\n",
    "  +---+\n",
    "  |   |\n",
    "  O   |\n",
    " /|\\  |\n",
    "      |\n",
    "      |\n",
    "=========''', '''\n",
    "  +---+\n",
    "  |   |\n",
    "  O   |\n",
    " /|\\  |\n",
    " /    |\n",
    "      |\n",
    "=========''', '''\n",
    "  +---+\n",
    "  |   |\n",
    "  O   |\n",
    " /|\\  |\n",
    " / \\  |\n",
    "      |\n",
    "=========''']\n",
    "\n",
    "# First create a list of words\n",
    "words = [\"perseverance\", \"determination\", \"focus\", \"calmness\", \"grit\", \"effort\", \"discipline\", \"adventurous\", \"diligent\", \"creative\", \"couragious\", \"passionate\", \"charming\", \"sincere\", \"confident\"]\n",
    "\n",
    "# Each time the game is played, a random word is chosen from the list\n",
    "chosen_word = random.choice(words)\n",
    "\n",
    "# Create a list corresponding to the chosen word with the same number of spaces\n",
    "guess_list = ['_' for _ in range(len(chosen_word))]\n",
    "\n",
    "# print(chosen_word)\n",
    "# print(guess_list)\n",
    "\n",
    "def replace_space_with_letter(letter):\n",
    "    index = 0\n",
    "    while(index < len(guess_list)):\n",
    "        if chosen_word[index] == letter:\n",
    "            guess_list[index] = letter\n",
    "        index += 1\n",
    "\n",
    "chances = 0\n",
    "while chances < len(hangman_ascii_art):\n",
    "    letter = input(\"guess a letter: \")\n",
    "    \n",
    "    if letter in chosen_word and letter not in guess_list:\n",
    "        replace_space_with_letter(letter)\n",
    "        print(\"You guessed it right :)\")\n",
    "        print(guess_list)\n",
    "        \n",
    "        if \"\".join(guess_list) == chosen_word:\n",
    "            print(\"You win!!!\")\n",
    "    else:\n",
    "        print(\"Wrong guess !!! You loose a chance :(\")\n",
    "        print(hangman_ascii_art[chances])\n",
    "        chances += 1\n",
    "\n",
    "if (chances == len(hangman_ascii_art)):\n",
    "    print(\"You lose!!!\")\n"
   ]
  },
  {
   "cell_type": "code",
   "execution_count": null,
   "id": "1198875b",
   "metadata": {},
   "outputs": [],
   "source": []
  }
 ],
 "metadata": {
  "kernelspec": {
   "display_name": "Python 3 (ipykernel)",
   "language": "python",
   "name": "python3"
  },
  "language_info": {
   "codemirror_mode": {
    "name": "ipython",
    "version": 3
   },
   "file_extension": ".py",
   "mimetype": "text/x-python",
   "name": "python",
   "nbconvert_exporter": "python",
   "pygments_lexer": "ipython3",
   "version": "3.10.9"
  }
 },
 "nbformat": 4,
 "nbformat_minor": 5
}
