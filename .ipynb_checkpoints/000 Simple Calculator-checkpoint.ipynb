{
 "cells": [
  {
   "cell_type": "markdown",
   "id": "a2775176",
   "metadata": {},
   "source": [
    "# Simple Calculator Program"
   ]
  },
  {
   "cell_type": "code",
   "execution_count": 1,
   "id": "ebca9b96",
   "metadata": {},
   "outputs": [
    {
     "name": "stdout",
     "output_type": "stream",
     "text": [
      "Enter the first number: 15\n",
      "------------------------------\n",
      "+\n",
      "-\n",
      "*\n",
      "/\n",
      "Pick an operation: *\n",
      "------------------------------\n",
      "Enter the next number: 8\n",
      "------------------------------\n",
      "15.0 * 8.0 = 120.0\n",
      "------------------------------\n",
      "Type 'y' to continue calculating with 120.0, or type 'n' to start a new calculation, or any other key to exit: y\n",
      "****************************************************************************************************\n",
      "+\n",
      "-\n",
      "*\n",
      "/\n",
      "Pick an operation: +\n",
      "------------------------------\n",
      "Enter the next number: 39\n",
      "------------------------------\n",
      "120.0 + 39.0 = 159.0\n",
      "------------------------------\n",
      "Type 'y' to continue calculating with 159.0, or type 'n' to start a new calculation, or any other key to exit: y\n",
      "****************************************************************************************************\n",
      "+\n",
      "-\n",
      "*\n",
      "/\n",
      "Pick an operation: -\n",
      "------------------------------\n",
      "Enter the next number: 23\n",
      "------------------------------\n",
      "159.0 - 23.0 = 136.0\n",
      "------------------------------\n",
      "Type 'y' to continue calculating with 136.0, or type 'n' to start a new calculation, or any other key to exit: x\n",
      "****************************************************************************************************\n",
      "Goodbye !!!\n",
      "****************************************************************************************************\n"
     ]
    }
   ],
   "source": [
    "# The given program performs simple arithmetic operations with the capacity to continue from the last calculation\n",
    "\n",
    "def print_operations():\n",
    "    print(\"+\\n-\\n*\\n/\")\n",
    "\n",
    "set_first_num = True\n",
    "num_1 = 0.0\n",
    "num_2 = 0.0\n",
    "operation = \"\"\n",
    "while(True):\n",
    "    if set_first_num:\n",
    "        num_1 = float(input(\"Enter the first number: \"))\n",
    "        print(\"-\"*30)\n",
    "    print_operations()\n",
    "    \n",
    "    while True:\n",
    "        operation = input(\"Pick an operation: \")\n",
    "        if operation == \"+\" or operation == \"-\" or operation == \"*\" or operation == \"/\":\n",
    "            break\n",
    "        else:\n",
    "            print(\"Enter valid operation\")\n",
    "    print(\"-\"*30)\n",
    "    \n",
    "    num_2 = float(input(\"Enter the next number: \"))\n",
    "    print(\"-\"*30)\n",
    "    \n",
    "    possible_results = {\"+\": num_1 + num_2, \"-\": num_1 - num_2, \"*\": num_1 * num_2, \"/\": num_1/num_2}\n",
    "    \n",
    "    result = possible_results[operation]\n",
    "    \n",
    "    print(f\"{num_1} {operation} {num_2} = {result}\")\n",
    "    print(\"-\"*30)\n",
    "    \n",
    "    user_response = input(f\"Type 'y' to continue calculating with {result}, or type 'n' to start a new calculation, or any other key to exit: \")\n",
    "    print(\"*\"*100)\n",
    "    if user_response == \"y\":\n",
    "        set_first_num = False\n",
    "        num_1 = result\n",
    "    elif user_response == \"n\":\n",
    "        set_first_num = True\n",
    "    else:\n",
    "        print(\"Goodbye !!!\")\n",
    "        print(\"*\"*100)\n",
    "        break"
   ]
  },
  {
   "cell_type": "code",
   "execution_count": null,
   "id": "b323612e",
   "metadata": {},
   "outputs": [],
   "source": []
  }
 ],
 "metadata": {
  "kernelspec": {
   "display_name": "Python 3 (ipykernel)",
   "language": "python",
   "name": "python3"
  },
  "language_info": {
   "codemirror_mode": {
    "name": "ipython",
    "version": 3
   },
   "file_extension": ".py",
   "mimetype": "text/x-python",
   "name": "python",
   "nbconvert_exporter": "python",
   "pygments_lexer": "ipython3",
   "version": "3.10.9"
  }
 },
 "nbformat": 4,
 "nbformat_minor": 5
}
