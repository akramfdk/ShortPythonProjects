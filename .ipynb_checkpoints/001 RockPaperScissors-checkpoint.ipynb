{
 "cells": [
  {
   "cell_type": "markdown",
   "id": "1b203b26",
   "metadata": {},
   "source": [
    "# Rock Paper Scissors Game :)"
   ]
  },
  {
   "cell_type": "code",
   "execution_count": 7,
   "id": "7a8298dc",
   "metadata": {},
   "outputs": [],
   "source": [
    "import random"
   ]
  },
  {
   "cell_type": "markdown",
   "id": "620e61fe",
   "metadata": {},
   "source": [
    "#### Set the ascii art for Rock Paper Scissors"
   ]
  },
  {
   "cell_type": "code",
   "execution_count": 5,
   "id": "b7ddc48a",
   "metadata": {},
   "outputs": [],
   "source": [
    "rock = '''\n",
    "    _______\n",
    "---'   ____)\n",
    "      (_____)\n",
    "      (_____)\n",
    "      (____)\n",
    "---.__(___)\n",
    "'''\n",
    "\n",
    "paper = '''\n",
    "    _______\n",
    "---'   ____)____\n",
    "          ______)\n",
    "          _______)\n",
    "         _______)\n",
    "---.__________)\n",
    "'''\n",
    "\n",
    "scissors = '''\n",
    "    _______\n",
    "---'   ____)____\n",
    "          ______)\n",
    "       __________)\n",
    "      (____)\n",
    "---.__(___)\n",
    "'''"
   ]
  },
  {
   "cell_type": "code",
   "execution_count": 6,
   "id": "92016906",
   "metadata": {},
   "outputs": [],
   "source": [
    "ascii_art = {\"r\": rock, \"p\": paper, \"s\": scissors}"
   ]
  },
  {
   "cell_type": "markdown",
   "id": "42c85f9a",
   "metadata": {},
   "source": [
    "#### First create a dictionary of choices"
   ]
  },
  {
   "cell_type": "code",
   "execution_count": 2,
   "id": "e8bfe03a",
   "metadata": {},
   "outputs": [],
   "source": [
    "choices = {\"r\": \"Rock\", \"p\": \"Paper\", \"s\": \"Scissors\"}"
   ]
  },
  {
   "cell_type": "markdown",
   "id": "f468634c",
   "metadata": {},
   "source": [
    "#### Play the game"
   ]
  },
  {
   "cell_type": "code",
   "execution_count": 22,
   "id": "a4406ffb",
   "metadata": {},
   "outputs": [
    {
     "name": "stdout",
     "output_type": "stream",
     "text": [
      "Enter r for Rock, p for Paper or s for Scissors\n",
      "Player chose Scissors  \n",
      "    _______\n",
      "---'   ____)____\n",
      "          ______)\n",
      "       __________)\n",
      "      (____)\n",
      "---.__(___)\n",
      "Computer chose Paper  \n",
      "    _______\n",
      "---'   ____)____\n",
      "          ______)\n",
      "          _______)\n",
      "         _______)\n",
      "---.__________)\n",
      "Player won !!!\n"
     ]
    }
   ],
   "source": [
    "# Next the player picks one option\n",
    "\n",
    "while(True):\n",
    "    player_choice = input(\"Enter r for Rock, p for Paper or s for Scissor\").lower()\n",
    "    if player_choice == \"r\" or player_choice == \"p\" or player_choice == \"s\":\n",
    "        break\n",
    "    else:\n",
    "        print(\"Incorrect choice!!! Try again!!!\")\n",
    "        \n",
    "# Now the computer makes its selection\n",
    "computer_choice = random.choice([\"r\", \"p\", \"s\"])\n",
    "\n",
    "# Print the player and computer choices\n",
    "print(f\"Player chose {choices[player_choice]}  {ascii_art[player_choice]}\", end = \"\")\n",
    "print(f\"Computer chose {choices[computer_choice]}  {ascii_art[computer_choice]}\", end = \"\")\n",
    "\n",
    "# Next predict the winner\n",
    "tie = False\n",
    "player_wins = True\n",
    "\n",
    "if (player_choice == computer_choice):\n",
    "    tie = True\n",
    "else:\n",
    "    if (player_choice == \"r\" and computer_choice == \"p\"):\n",
    "        player_wins = False\n",
    "    elif (player_choice == \"p\" and computer_choice == \"s\"):\n",
    "        player_wins = False\n",
    "    elif (player_choice == \"s\" and computer_choice == \"r\"):\n",
    "        player_wins = False\n",
    "\n",
    "if (tie):\n",
    "    print(\"That's a tie !!!\")\n",
    "elif (player_wins):\n",
    "    print(\"Player won !!!\")\n",
    "else:\n",
    "    print(\"Computer won !!!\")"
   ]
  },
  {
   "cell_type": "code",
   "execution_count": null,
   "id": "cd09c0f7",
   "metadata": {},
   "outputs": [],
   "source": []
  }
 ],
 "metadata": {
  "kernelspec": {
   "display_name": "Python 3 (ipykernel)",
   "language": "python",
   "name": "python3"
  },
  "language_info": {
   "codemirror_mode": {
    "name": "ipython",
    "version": 3
   },
   "file_extension": ".py",
   "mimetype": "text/x-python",
   "name": "python",
   "nbconvert_exporter": "python",
   "pygments_lexer": "ipython3",
   "version": "3.10.9"
  }
 },
 "nbformat": 4,
 "nbformat_minor": 5
}
