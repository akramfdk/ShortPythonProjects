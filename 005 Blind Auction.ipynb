{
 "cells": [
  {
   "cell_type": "markdown",
   "id": "72891ce7",
   "metadata": {},
   "source": [
    "# BLIND AUCTION PROGRAM"
   ]
  },
  {
   "cell_type": "markdown",
   "id": "b2df063c",
   "metadata": {},
   "source": [
    "## In this program, the different bidders will enter their respective secret bids. Once all the people have made the bids, the winner of the bid will be declared."
   ]
  },
  {
   "cell_type": "code",
   "execution_count": 13,
   "id": "33af6af1",
   "metadata": {},
   "outputs": [
    {
     "name": "stdout",
     "output_type": "stream",
     "text": [
      "What is your name?: Henry\n",
      "What is your bid? $120\n",
      "Are there more bidders? Enter yes or no: no\n",
      "Akram is the winner with a bid of $150\n"
     ]
    }
   ],
   "source": [
    "from IPython.display import clear_output\n",
    "\n",
    "def declare_winner(bidder_info_dict):\n",
    "    max_bid = 0\n",
    "    max_bidder = \"\"\n",
    "    \n",
    "    for key in bidder_info_dict:\n",
    "        if max_bid < bidder_info_dict[key]:\n",
    "            max_bid = bidder_info_dict[key]\n",
    "            max_bidder = key\n",
    "    \n",
    "    print(f\"{max_bidder} is the winner with a bid of ${max_bid}\")\n",
    "\n",
    "bid_dict = {}\n",
    "more_bidders = \"yes\"\n",
    "while more_bidders == \"yes\":\n",
    "    name = input(\"What is your name?: \")\n",
    "    bid = int(input(\"What is your bid? $\"))\n",
    "\n",
    "    bid_dict[name] = bid\n",
    "\n",
    "    while True:\n",
    "        more_bidders = input(\"Are there more bidders? Enter yes or no: \").lower()\n",
    "        if more_bidders == \"yes\" or more_bidders == \"no\":\n",
    "            break\n",
    "        else:\n",
    "            print(\"Incorrect input!!! You can only enter yes or no!!!\")\n",
    "            \n",
    "    if more_bidders == \"yes\":\n",
    "        clear_output()\n",
    "\n",
    "declare_winner(bid_dict)"
   ]
  },
  {
   "cell_type": "code",
   "execution_count": null,
   "id": "155d1ae8",
   "metadata": {},
   "outputs": [],
   "source": []
  }
 ],
 "metadata": {
  "kernelspec": {
   "display_name": "Python 3 (ipykernel)",
   "language": "python",
   "name": "python3"
  },
  "language_info": {
   "codemirror_mode": {
    "name": "ipython",
    "version": 3
   },
   "file_extension": ".py",
   "mimetype": "text/x-python",
   "name": "python",
   "nbconvert_exporter": "python",
   "pygments_lexer": "ipython3",
   "version": "3.10.9"
  }
 },
 "nbformat": 4,
 "nbformat_minor": 5
}
