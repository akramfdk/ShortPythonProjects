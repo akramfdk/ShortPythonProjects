{
 "cells": [
  {
   "cell_type": "markdown",
   "id": "568acf86",
   "metadata": {},
   "source": [
    "# Hangman Game !!!"
   ]
  },
  {
   "cell_type": "markdown",
   "id": "463786fa",
   "metadata": {},
   "source": [
    "### Play and enjoy the game"
   ]
  },
  {
   "cell_type": "code",
   "execution_count": 8,
   "id": "3ebce36f",
   "metadata": {},
   "outputs": [
    {
     "name": "stdout",
     "output_type": "stream",
     "text": [
      "Incorrect!!! 😮\n",
      "  +---+\n",
      "  |   |\n",
      "  O   |\n",
      " /|\\  |\n",
      " / \\  |\n",
      "      |\n",
      "=========\n",
      "['s', '_', '_', '_', '_']\n",
      "\n",
      "--------------------------------------------------\n",
      "\n",
      "Oops!!!You lose 🙁\n",
      "You guessed s____, the correct word is swede\n",
      "\n",
      "--------------------------------------------------\n",
      "\n"
     ]
    }
   ],
   "source": [
    "import random\n",
    "from HangmanFiles import HangmanWordList, HangmanAsciiArt\n",
    "from IPython.display import clear_output\n",
    "\n",
    "# Each time the game is played, a random word is chosen from the list\n",
    "chosen_word = random.choice(HangmanWordList.word_list)\n",
    "\n",
    "# hangman_ascii_art contains the ascii art for the game\n",
    "hangman_ascii_art = HangmanAsciiArt.hangman_ascii_art\n",
    "\n",
    "# Create a list corresponding to the chosen word with the same number of spaces\n",
    "guess_list = ['_' for _ in range(len(chosen_word))]\n",
    "\n",
    "# print(chosen_word)\n",
    "# print(guess_list)\n",
    "\n",
    "print(HangmanAsciiArt.hangman_logo)\n",
    "\n",
    "def replace_space_with_letter(letter):\n",
    "    index = 0\n",
    "    while(index < len(guess_list)):\n",
    "        if chosen_word[index] == letter:\n",
    "            guess_list[index] = letter\n",
    "        index += 1\n",
    "\n",
    "chances = 0\n",
    "NUM_CHANCES = 6\n",
    "while chances < NUM_CHANCES:\n",
    "    letter = input(\"Guess a letter: \")\n",
    "    clear_output(wait = True)\n",
    "    \n",
    "    if letter in chosen_word and letter not in guess_list:\n",
    "        replace_space_with_letter(letter)\n",
    "        print(\"Correct!!! \\U0001F609\")\n",
    "        print(\"\\n\"+\"-\"*50+\"\\n\")\n",
    "        \n",
    "        if \"\".join(guess_list) == chosen_word:\n",
    "            print(\"Congratulations!!! You win \\U0001F603\")\n",
    "            print(\"\\n\"+\"-\"*50+\"\\n\")\n",
    "            break\n",
    "    else:\n",
    "        print(\"Incorrect!!! \\U0001F62E\")\n",
    "        chances += 1\n",
    "    \n",
    "    print(hangman_ascii_art[chances])\n",
    "    print(guess_list)\n",
    "    print(\"\\n\"+\"-\"*50+\"\\n\")\n",
    "\n",
    "if (chances == NUM_CHANCES):\n",
    "    print(\"Oops!!!You lose \\U0001F641\")\n",
    "    print(f\"You guessed {''.join(guess_list)}, the correct word is {chosen_word}\")\n",
    "    print(\"\\n\"+\"-\"*50+\"\\n\")"
   ]
  },
  {
   "cell_type": "code",
   "execution_count": null,
   "id": "902a9e69",
   "metadata": {},
   "outputs": [],
   "source": []
  }
 ],
 "metadata": {
  "kernelspec": {
   "display_name": "Python 3 (ipykernel)",
   "language": "python",
   "name": "python3"
  },
  "language_info": {
   "codemirror_mode": {
    "name": "ipython",
    "version": 3
   },
   "file_extension": ".py",
   "mimetype": "text/x-python",
   "name": "python",
   "nbconvert_exporter": "python",
   "pygments_lexer": "ipython3",
   "version": "3.10.9"
  }
 },
 "nbformat": 4,
 "nbformat_minor": 5
}
