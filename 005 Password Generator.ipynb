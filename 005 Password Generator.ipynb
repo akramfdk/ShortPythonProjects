{
 "cells": [
  {
   "cell_type": "markdown",
   "id": "53eea367",
   "metadata": {},
   "source": [
    "# Password Generator !!!"
   ]
  },
  {
   "cell_type": "markdown",
   "id": "fde42a73",
   "metadata": {},
   "source": [
    "### The code below takes user input regarding the length of password, number of digits, number of special characters and generates a random password"
   ]
  },
  {
   "cell_type": "code",
   "execution_count": 1,
   "id": "b0044d5d",
   "metadata": {},
   "outputs": [],
   "source": [
    "import random\n",
    "import string"
   ]
  },
  {
   "cell_type": "code",
   "execution_count": 5,
   "id": "37b0b781",
   "metadata": {},
   "outputs": [
    {
     "name": "stdout",
     "output_type": "stream",
     "text": [
      "Welcome to the Password Generator !!!\n",
      "How many letters would you like in your password? 14\n",
      "How many symbols would you like? 5\n",
      "How many digits would you like? 4\n",
      "eHRj4g:gf2pe/8{EDWW\\9I]\n"
     ]
    }
   ],
   "source": [
    "print(\"Welcome to the Password Generator !!!\")\n",
    "\n",
    "password_letters = []\n",
    "\n",
    "num_letters = int(input(\"How many letters would you like in your password? \"))\n",
    "num_symbols = int(input(\"How many symbols would you like? \"))\n",
    "num_digits = int(input(\"How many digits would you like? \"))\n",
    "\n",
    "letters = list(string.ascii_uppercase + string.ascii_lowercase)\n",
    "random.shuffle(letters)\n",
    "\n",
    "for _ in range(num_symbols):\n",
    "    password_letters.append(random.choice(string.punctuation))\n",
    "for _ in range(num_digits):\n",
    "    password_letters.append(random.choice(string.digits))\n",
    "for _ in range(num_letters):\n",
    "    password_letters.append(random.choice(letters))\n",
    "    \n",
    "random.shuffle(password_letters)\n",
    "\n",
    "print(\"\".join(password_letters))"
   ]
  },
  {
   "cell_type": "code",
   "execution_count": null,
   "id": "6b8037e2",
   "metadata": {},
   "outputs": [],
   "source": [
    "print()"
   ]
  }
 ],
 "metadata": {
  "kernelspec": {
   "display_name": "Python 3 (ipykernel)",
   "language": "python",
   "name": "python3"
  },
  "language_info": {
   "codemirror_mode": {
    "name": "ipython",
    "version": 3
   },
   "file_extension": ".py",
   "mimetype": "text/x-python",
   "name": "python",
   "nbconvert_exporter": "python",
   "pygments_lexer": "ipython3",
   "version": "3.10.9"
  }
 },
 "nbformat": 4,
 "nbformat_minor": 5
}
