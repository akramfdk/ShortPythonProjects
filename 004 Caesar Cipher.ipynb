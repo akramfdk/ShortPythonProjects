{
 "cells": [
  {
   "cell_type": "markdown",
   "id": "4ecf1d00",
   "metadata": {},
   "source": [
    "# Caesar Cipher (encode and decode)"
   ]
  },
  {
   "cell_type": "code",
   "execution_count": 1,
   "id": "749d1283",
   "metadata": {},
   "outputs": [],
   "source": [
    "import string"
   ]
  },
  {
   "cell_type": "markdown",
   "id": "db3084c1",
   "metadata": {},
   "source": [
    "## Method 1"
   ]
  },
  {
   "cell_type": "markdown",
   "id": "45786345",
   "metadata": {},
   "source": [
    "### First the function to encode"
   ]
  },
  {
   "cell_type": "code",
   "execution_count": 31,
   "id": "042b49eb",
   "metadata": {},
   "outputs": [],
   "source": [
    "# the following function takes a string and shift and returns the encoded string\n",
    "def encode(text, shift):\n",
    "    letters = string.ascii_lowercase\n",
    "    letters_encode = letters[shift:] + letters[:shift]\n",
    "    \n",
    "    encoding_dict = {}\n",
    "    for index in range(len(letters)):\n",
    "        encoding_dict[letters[index]] = letters_encode[index]\n",
    "    \n",
    "    encoded_text = \"\"\n",
    "    for letter in text.lower():\n",
    "        if letter in letters:\n",
    "            encoded_text += encoding_dict[letter]\n",
    "        else:\n",
    "            encoded_text += letter\n",
    "    \n",
    "    print(f\"Here's the encoded result: {encoded_text}\")"
   ]
  },
  {
   "cell_type": "code",
   "execution_count": 32,
   "id": "b743067a",
   "metadata": {},
   "outputs": [],
   "source": [
    "# the following function takes an encoded string and shift and returns the original message\n",
    "\n",
    "def decode(encoded_text, shift):\n",
    "    letters_encode = string.ascii_lowercase\n",
    "    letters_decode = letters_encode[-shift:] + letters_encode[:-shift]\n",
    "    \n",
    "    decoding_dict = {}\n",
    "    for index in range(len(letters_encode)):\n",
    "        decoding_dict[letters_encode[index]] = letters_decode[index]\n",
    "    \n",
    "    decoded_text = \"\"\n",
    "    \n",
    "    for letter in encoded_text.lower():\n",
    "        if letter in letters_encode:\n",
    "            decoded_text += decoding_dict[letter]\n",
    "        else:\n",
    "            decoded_text += letter\n",
    "        \n",
    "    print(f\"Here's the decoded result: {decoded_text}\")"
   ]
  },
  {
   "cell_type": "code",
   "execution_count": 37,
   "id": "720978ff",
   "metadata": {},
   "outputs": [
    {
     "name": "stdout",
     "output_type": "stream",
     "text": [
      "Type 'encode' to encrypt or 'decode' to decrypt: encode\n",
      "Type your message: hello\n",
      "Type the shift number: 31\n",
      "Here's the encoded result: mjqqt\n",
      "Type 'yes' if you want to go again or any other key to exit: yes\n",
      "Type 'encode' to encrypt or 'decode' to decrypt: decode\n",
      "Type your message: mjqqt\n",
      "Type the shift number: 57\n",
      "Here's the decoded result: hello\n",
      "Type 'yes' if you want to go again or any other key to exit: no\n",
      "Thank you!!! The program will exit!!!\n"
     ]
    }
   ],
   "source": [
    "while True:\n",
    "    user_input = input(\"Type 'encode' to encrypt or 'decode' to decrypt: \")\n",
    "    \n",
    "    if not(user_input == \"encode\" or user_input == \"decode\"):\n",
    "        print(\"Incorrect input. Try again !!!\")\n",
    "        continue\n",
    "    \n",
    "    message = input(\"Type your message: \")\n",
    "    shift = int(input(\"Type the shift number: \")) % 26\n",
    "    \n",
    "    if user_input == \"encode\":\n",
    "        encode(message, shift)\n",
    "    else:\n",
    "        decode(message, shift)\n",
    "        \n",
    "    try_again = input(\"Type 'yes' if you want to go again or any other key to exit: \")\n",
    "    if try_again != \"yes\":\n",
    "        print(\"Thank you!!! The program will exit!!!\")\n",
    "        break"
   ]
  },
  {
   "cell_type": "markdown",
   "id": "8a48a742",
   "metadata": {},
   "source": [
    "## Method 2"
   ]
  },
  {
   "cell_type": "markdown",
   "id": "8885401e",
   "metadata": {},
   "source": [
    "### Single function named caesar to encode or decode"
   ]
  },
  {
   "cell_type": "code",
   "execution_count": 39,
   "id": "d760558a",
   "metadata": {},
   "outputs": [],
   "source": [
    "def caesar(start_text, shift, user_choice):\n",
    "    end_text = \"\"\n",
    "    \n",
    "    if user_choice == \"decode\":\n",
    "        shift *= -1\n",
    "    \n",
    "    for letter in start_text.lower():\n",
    "        if letter not in string.ascii_lowercase:\n",
    "            end_text += letter\n",
    "        else:\n",
    "            index = string.ascii_lowercase.index(letter) + shift\n",
    "            if index > 26:\n",
    "                index = index - 26\n",
    "            elif index < 0:\n",
    "                index = index + 26\n",
    "            end_text += string.ascii_lowercase[index]\n",
    "    \n",
    "    print(f\"The {user_choice}d text is {end_text}\")"
   ]
  },
  {
   "cell_type": "code",
   "execution_count": 41,
   "id": "71f60225",
   "metadata": {},
   "outputs": [
    {
     "name": "stdout",
     "output_type": "stream",
     "text": [
      "Type 'encode' to encrypt or 'decode' to decrypt: encode\n",
      "Type your message: goodbye\n",
      "Type the shift number: 5\n",
      "The encoded text is lttigdj\n",
      "Type 'yes' if you want to go again or any other key to exit: yes\n",
      "Type 'encode' to encrypt or 'decode' to decrypt: decode\n",
      "Type your message: lttigdj\n",
      "Type the shift number: 57\n",
      "The decoded text is goodbye\n",
      "Type 'yes' if you want to go again or any other key to exit: exit\n",
      "Thank you!!! The program will exit!!!\n"
     ]
    }
   ],
   "source": [
    "while True:\n",
    "    user_input = input(\"Type 'encode' to encrypt or 'decode' to decrypt: \")\n",
    "    \n",
    "    if not(user_input == \"encode\" or user_input == \"decode\"):\n",
    "        print(\"Incorrect input. Try again !!!\")\n",
    "        continue\n",
    "    \n",
    "    message = input(\"Type your message: \")\n",
    "    shift = int(input(\"Type the shift number: \")) % 26\n",
    "    \n",
    "    caesar(message, shift, user_input)\n",
    "        \n",
    "    try_again = input(\"Type 'yes' if you want to go again or any other key to exit: \")\n",
    "    if try_again != \"yes\":\n",
    "        print(\"Thank you!!! The program will exit!!!\")\n",
    "        break"
   ]
  },
  {
   "cell_type": "code",
   "execution_count": null,
   "id": "a797ac32",
   "metadata": {},
   "outputs": [],
   "source": []
  }
 ],
 "metadata": {
  "kernelspec": {
   "display_name": "Python 3 (ipykernel)",
   "language": "python",
   "name": "python3"
  },
  "language_info": {
   "codemirror_mode": {
    "name": "ipython",
    "version": 3
   },
   "file_extension": ".py",
   "mimetype": "text/x-python",
   "name": "python",
   "nbconvert_exporter": "python",
   "pygments_lexer": "ipython3",
   "version": "3.10.9"
  }
 },
 "nbformat": 4,
 "nbformat_minor": 5
}
